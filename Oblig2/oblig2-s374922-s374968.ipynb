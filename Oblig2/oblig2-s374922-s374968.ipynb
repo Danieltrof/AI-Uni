{
 "cells": [
  {
   "cell_type": "markdown",
   "metadata": {},
   "source": [
    "This Mandatory assignment was done by: Daniel Trofimovs (s374922) and Sander Schultz (s374968)"
   ]
  },
  {
   "cell_type": "markdown",
   "metadata": {},
   "source": [
    "We have chosen the task of predicting stock market prices for TESLA. Since we are predicting a continous values, we have chosen to EXCLUDE using classification algorithms such as Naive Bayes, K-Nearest Neighbours (KNN) and SVM. We have also decided to exclude using linear regression algorithm as it will not capture non-linear relationships between features and target variable, resulting in a bad R^2 (prediction) score. Therefore we have the options of using Decision Tree algorithm, Random Forest Algorithm or Support Vector Machine for Regression (SVR). Spoiler SVR was not that good as the other algorithms for this dataset."
   ]
  },
  {
   "cell_type": "markdown",
   "metadata": {},
   "source": [
    "Our findings: Linear regression had a prediciton score of 41.1%, SVR = 59.9%, Decision Tree = 99.891%, Random Forest = 99,899%. All though it is far from perfect we have chosen to rely the most on the Random Forest Algorithm. Random Forest Algorithm has the best prediction out of the 4 algorithms, but it has the flaw of overfitting the csv data. E.g. It cannot predict todays Tesla stock price correctly because of its price fall in the end of 2021 and early 2022 (which is a crucial part of data that is excluded from the csv data)"
   ]
  },
  {
   "cell_type": "code",
   "execution_count": 1,
   "metadata": {
    "jukit_cell_id": "zr1mqssnYz"
   },
   "outputs": [
    {
     "data": {
      "text/html": [
       "<div>\n",
       "<style scoped>\n",
       "    .dataframe tbody tr th:only-of-type {\n",
       "        vertical-align: middle;\n",
       "    }\n",
       "\n",
       "    .dataframe tbody tr th {\n",
       "        vertical-align: top;\n",
       "    }\n",
       "\n",
       "    .dataframe thead th {\n",
       "        text-align: right;\n",
       "    }\n",
       "</style>\n",
       "<table border=\"1\" class=\"dataframe\">\n",
       "  <thead>\n",
       "    <tr style=\"text-align: right;\">\n",
       "      <th></th>\n",
       "      <th>Date</th>\n",
       "      <th>Open</th>\n",
       "      <th>High</th>\n",
       "      <th>Low</th>\n",
       "      <th>Close</th>\n",
       "      <th>Adj Close</th>\n",
       "      <th>Volume</th>\n",
       "    </tr>\n",
       "  </thead>\n",
       "  <tbody>\n",
       "    <tr>\n",
       "      <th>0</th>\n",
       "      <td>2010-06-29</td>\n",
       "      <td>3.800</td>\n",
       "      <td>5.000</td>\n",
       "      <td>3.508</td>\n",
       "      <td>4.778</td>\n",
       "      <td>4.778</td>\n",
       "      <td>93831500</td>\n",
       "    </tr>\n",
       "    <tr>\n",
       "      <th>1</th>\n",
       "      <td>2010-06-30</td>\n",
       "      <td>5.158</td>\n",
       "      <td>6.084</td>\n",
       "      <td>4.660</td>\n",
       "      <td>4.766</td>\n",
       "      <td>4.766</td>\n",
       "      <td>85935500</td>\n",
       "    </tr>\n",
       "    <tr>\n",
       "      <th>2</th>\n",
       "      <td>2010-07-01</td>\n",
       "      <td>5.000</td>\n",
       "      <td>5.184</td>\n",
       "      <td>4.054</td>\n",
       "      <td>4.392</td>\n",
       "      <td>4.392</td>\n",
       "      <td>41094000</td>\n",
       "    </tr>\n",
       "    <tr>\n",
       "      <th>3</th>\n",
       "      <td>2010-07-02</td>\n",
       "      <td>4.600</td>\n",
       "      <td>4.620</td>\n",
       "      <td>3.742</td>\n",
       "      <td>3.840</td>\n",
       "      <td>3.840</td>\n",
       "      <td>25699000</td>\n",
       "    </tr>\n",
       "    <tr>\n",
       "      <th>4</th>\n",
       "      <td>2010-07-06</td>\n",
       "      <td>4.000</td>\n",
       "      <td>4.000</td>\n",
       "      <td>3.166</td>\n",
       "      <td>3.222</td>\n",
       "      <td>3.222</td>\n",
       "      <td>34334500</td>\n",
       "    </tr>\n",
       "  </tbody>\n",
       "</table>\n",
       "</div>"
      ],
      "text/plain": [
       "         Date   Open   High    Low  Close  Adj Close    Volume\n",
       "0  2010-06-29  3.800  5.000  3.508  4.778      4.778  93831500\n",
       "1  2010-06-30  5.158  6.084  4.660  4.766      4.766  85935500\n",
       "2  2010-07-01  5.000  5.184  4.054  4.392      4.392  41094000\n",
       "3  2010-07-02  4.600  4.620  3.742  3.840      3.840  25699000\n",
       "4  2010-07-06  4.000  4.000  3.166  3.222      3.222  34334500"
      ]
     },
     "metadata": {},
     "output_type": "display_data"
    },
    {
     "data": {
      "text/plain": [
       "Date         0\n",
       "Open         0\n",
       "High         0\n",
       "Low          0\n",
       "Close        0\n",
       "Adj Close    0\n",
       "Volume       0\n",
       "dtype: int64"
      ]
     },
     "metadata": {},
     "output_type": "display_data"
    }
   ],
   "source": [
    "import pandas as pd\n",
    "import matplotlib.pyplot as pyplot\n",
    "import seaborn as sea\n",
    "\n",
    "# Display is used to show several outputs per cell\n",
    "from IPython.display import display\n",
    "\n",
    "# Create dataframe from csv file\n",
    "data = pd.read_csv('data/TSLA.csv')\n",
    "display(data.head())\n",
    "\n",
    "# Checking for missing values\n",
    "display(data.isnull().sum())"
   ]
  },
  {
   "cell_type": "code",
   "execution_count": 2,
   "metadata": {},
   "outputs": [
    {
     "data": {
      "text/html": [
       "<div>\n",
       "<style scoped>\n",
       "    .dataframe tbody tr th:only-of-type {\n",
       "        vertical-align: middle;\n",
       "    }\n",
       "\n",
       "    .dataframe tbody tr th {\n",
       "        vertical-align: top;\n",
       "    }\n",
       "\n",
       "    .dataframe thead th {\n",
       "        text-align: right;\n",
       "    }\n",
       "</style>\n",
       "<table border=\"1\" class=\"dataframe\">\n",
       "  <thead>\n",
       "    <tr style=\"text-align: right;\">\n",
       "      <th></th>\n",
       "      <th>Date</th>\n",
       "      <th>Close</th>\n",
       "    </tr>\n",
       "  </thead>\n",
       "  <tbody>\n",
       "    <tr>\n",
       "      <th>0</th>\n",
       "      <td>2010-06-29</td>\n",
       "      <td>4.778</td>\n",
       "    </tr>\n",
       "    <tr>\n",
       "      <th>1</th>\n",
       "      <td>2010-06-30</td>\n",
       "      <td>4.766</td>\n",
       "    </tr>\n",
       "    <tr>\n",
       "      <th>2</th>\n",
       "      <td>2010-07-01</td>\n",
       "      <td>4.392</td>\n",
       "    </tr>\n",
       "    <tr>\n",
       "      <th>3</th>\n",
       "      <td>2010-07-02</td>\n",
       "      <td>3.840</td>\n",
       "    </tr>\n",
       "    <tr>\n",
       "      <th>4</th>\n",
       "      <td>2010-07-06</td>\n",
       "      <td>3.222</td>\n",
       "    </tr>\n",
       "  </tbody>\n",
       "</table>\n",
       "</div>"
      ],
      "text/plain": [
       "         Date  Close\n",
       "0  2010-06-29  4.778\n",
       "1  2010-06-30  4.766\n",
       "2  2010-07-01  4.392\n",
       "3  2010-07-02  3.840\n",
       "4  2010-07-06  3.222"
      ]
     },
     "execution_count": 2,
     "metadata": {},
     "output_type": "execute_result"
    }
   ],
   "source": [
    "#Keep only 'Date' and 'Close' columns (Only columns needed for this assignment)\n",
    "modified_data = data[['Date', 'Close']]\n",
    "\n",
    "#Saving the modified data as a new csv file\n",
    "modified_data.to_csv('data/TESLA_modified.csv', index=False)\n",
    "\n",
    "#Load the modified csv file\n",
    "data = pd.read_csv('data/TESLA_modified.csv')\n",
    "data.head()"
   ]
  },
  {
   "cell_type": "code",
   "execution_count": 3,
   "metadata": {},
   "outputs": [
    {
     "data": {
      "text/html": [
       "<div>\n",
       "<style scoped>\n",
       "    .dataframe tbody tr th:only-of-type {\n",
       "        vertical-align: middle;\n",
       "    }\n",
       "\n",
       "    .dataframe tbody tr th {\n",
       "        vertical-align: top;\n",
       "    }\n",
       "\n",
       "    .dataframe thead th {\n",
       "        text-align: right;\n",
       "    }\n",
       "</style>\n",
       "<table border=\"1\" class=\"dataframe\">\n",
       "  <thead>\n",
       "    <tr style=\"text-align: right;\">\n",
       "      <th></th>\n",
       "      <th>Date</th>\n",
       "      <th>Close</th>\n",
       "      <th>Date_Ordinal</th>\n",
       "    </tr>\n",
       "  </thead>\n",
       "  <tbody>\n",
       "    <tr>\n",
       "      <th>0</th>\n",
       "      <td>2010-06-29</td>\n",
       "      <td>4.778</td>\n",
       "      <td>733952</td>\n",
       "    </tr>\n",
       "    <tr>\n",
       "      <th>1</th>\n",
       "      <td>2010-06-30</td>\n",
       "      <td>4.766</td>\n",
       "      <td>733953</td>\n",
       "    </tr>\n",
       "    <tr>\n",
       "      <th>2</th>\n",
       "      <td>2010-07-01</td>\n",
       "      <td>4.392</td>\n",
       "      <td>733954</td>\n",
       "    </tr>\n",
       "    <tr>\n",
       "      <th>3</th>\n",
       "      <td>2010-07-02</td>\n",
       "      <td>3.840</td>\n",
       "      <td>733955</td>\n",
       "    </tr>\n",
       "    <tr>\n",
       "      <th>4</th>\n",
       "      <td>2010-07-06</td>\n",
       "      <td>3.222</td>\n",
       "      <td>733959</td>\n",
       "    </tr>\n",
       "  </tbody>\n",
       "</table>\n",
       "</div>"
      ],
      "text/plain": [
       "        Date  Close  Date_Ordinal\n",
       "0 2010-06-29  4.778        733952\n",
       "1 2010-06-30  4.766        733953\n",
       "2 2010-07-01  4.392        733954\n",
       "3 2010-07-02  3.840        733955\n",
       "4 2010-07-06  3.222        733959"
      ]
     },
     "execution_count": 3,
     "metadata": {},
     "output_type": "execute_result"
    }
   ],
   "source": [
    "#Since machine learning algorithms cant handle dates directly, we convert to ordinal numbers\n",
    "#First convert to datetime format\n",
    "data['Date'] = pd.to_datetime(data['Date'])\n",
    "\n",
    "#Convert to ordinal number\n",
    "data['Date_Ordinal'] = data['Date'].map(lambda date: date.toordinal())\n",
    "data.head()"
   ]
  },
  {
   "cell_type": "code",
   "execution_count": 4,
   "metadata": {},
   "outputs": [],
   "source": [
    "#Splitting the data into train and test sets. Chose to split to 70% training and 30% testing\n",
    "from sklearn.model_selection import train_test_split\n",
    "\n",
    "X = data[['Date_Ordinal']] \n",
    "y = data['Close'] \n",
    "\n",
    "#Setting the random_state to 42. This guarantees that each time we run the code, the split between the training and test sets will be the same, which helps ensure reproducible results.\n",
    "X_train, X_test, y_train, y_test = train_test_split(X, y, test_size=0.3, random_state=42) "
   ]
  },
  {
   "cell_type": "code",
   "execution_count": 5,
   "metadata": {},
   "outputs": [
    {
     "name": "stdout",
     "output_type": "stream",
     "text": [
      "Linear Regression R²: 0.41159340695106783\n"
     ]
    }
   ],
   "source": [
    "#Just to show how bad of a R^2 score a linear regression would have on this dataset\n",
    "from sklearn.linear_model import LinearRegression\n",
    "\n",
    "# Initialize the Linear Regression model\n",
    "lr_model = LinearRegression()\n",
    "\n",
    "# Train the model\n",
    "lr_model.fit(X_train, y_train)\n",
    "\n",
    "# Make predictions\n",
    "y_pred_lr = lr_model.predict(X_test)\n",
    "\n",
    "# Calculate the R² score (how well the model fits the test data)\n",
    "score_lr = lr_model.score(X_test, y_test)\n",
    "print(f\"Linear Regression R²: {score_lr}\")"
   ]
  },
  {
   "cell_type": "code",
   "execution_count": 6,
   "metadata": {},
   "outputs": [
    {
     "name": "stdout",
     "output_type": "stream",
     "text": [
      "SVR R^2: 0.5992887645645717\n"
     ]
    }
   ],
   "source": [
    "#SVR did not perform as well as we thought it would. \n",
    "from sklearn.svm import SVR\n",
    "\n",
    "svr_model = SVR(kernel='rbf', C=100, gamma=0.1)\n",
    "svr_model.fit(X_train, y_train)\n",
    "y_pred_svr = svr_model.predict(X_test)\n",
    "score_svr = svr_model.score(X_test, y_test)\n",
    "print(f\"SVR R^2: {score_svr}\")"
   ]
  },
  {
   "cell_type": "code",
   "execution_count": 7,
   "metadata": {},
   "outputs": [
    {
     "name": "stdout",
     "output_type": "stream",
     "text": [
      "Decision Tree R^2: 0.9989192719416186\n"
     ]
    }
   ],
   "source": [
    "#Decision tree algorithm, simple and effective\n",
    "from sklearn.tree import DecisionTreeRegressor\n",
    "\n",
    "tree_model = DecisionTreeRegressor()\n",
    "tree_model.fit(X_train, y_train)\n",
    "y_pred_tree = tree_model.predict(X_test)\n",
    "score_tree = tree_model.score(X_test, y_test)\n",
    "print(f\"Decision Tree R^2: {score_tree}\")"
   ]
  },
  {
   "cell_type": "code",
   "execution_count": 8,
   "metadata": {},
   "outputs": [
    {
     "name": "stdout",
     "output_type": "stream",
     "text": [
      "Random Forest R^2: 0.9989909728288165\n"
     ]
    }
   ],
   "source": [
    "#Random forest, also a good algorithm for this dataset.\n",
    "from sklearn.ensemble import RandomForestRegressor\n",
    "rf_model = RandomForestRegressor(n_estimators=100, random_state=42)\n",
    "rf_model.fit(X_train, y_train)\n",
    "y_pred_rf = rf_model.predict(X_test)\n",
    "score_rf = rf_model.score(X_test, y_test)\n",
    "print(f\"Random Forest R^2: {score_rf}\")"
   ]
  },
  {
   "cell_type": "markdown",
   "metadata": {},
   "source": [
    "Giving the user the option of inputting a date in YYYY-MM-DD format. The program gives out the predicted stock price on that specified date, as well as the Prediction Score accuracy. "
   ]
  },
  {
   "cell_type": "code",
   "execution_count": 9,
   "metadata": {},
   "outputs": [
    {
     "name": "stdout",
     "output_type": "stream",
     "text": [
      "Predicted stock price for Tesla on 2020-10-10: $431.83\n",
      "Model Prediction Accuracy (R^2 Score): 0.9989909728288165\n"
     ]
    }
   ],
   "source": [
    "from datetime import datetime\n",
    "\n",
    "# Function to take user input and predict stock price for the given date\n",
    "def predict_stock_price_for_date(model):\n",
    "    # Prompt the user to input a date in the format YYYY-MM-DD\n",
    "    date_str = input(\"Enter a date in YYYY-MM-DD format (e.g., 2024-09-28): \")\n",
    "    \n",
    "    try:\n",
    "        # Convert the input string to a datetime object\n",
    "        user_date = datetime.strptime(date_str, \"%Y-%m-%d\")\n",
    "        \n",
    "        # Convert the date to ordinal format (what the model expects)\n",
    "        user_date_ordinal = user_date.toordinal()\n",
    "        \n",
    "        # Convert to DataFrame for prediction (the same format the model was trained with)\n",
    "        X_new = pd.DataFrame([[user_date_ordinal]], columns=['Date_Ordinal'])\n",
    "        \n",
    "        # Use the model to predict the stock price for the input date\n",
    "        predicted_price = model.predict(X_new)\n",
    "        \n",
    "        # Output the predicted price\n",
    "        print(f\"Predicted stock price for Tesla on {user_date.strftime('%Y-%m-%d')}: ${predicted_price[0]:.2f}\")\n",
    "    \n",
    "    except ValueError:\n",
    "        print(\"Invalid date format. Please enter the date in YYYY-MM-DD format.\")\n",
    "\n",
    "#Choosing which model to use\n",
    "predict_stock_price_for_date(rf_model)\n",
    "print(f\"Model Prediction Accuracy (R^2 Score): {score_rf}\")"
   ]
  },
  {
   "cell_type": "markdown",
   "metadata": {},
   "source": [
    "Tried to test how well this program can predict todays Tesla stock prices. After testing all 4 models on 2024-10-10, we got some interesting results. Even though SVR algorithm had a lower R^2 score than Random Forest and Decision Tree, it came closest with the predicted price of 76.34$ (2024-10-10 price was 241.28$). In this case we see that Random Forest and Decision Tree suffers from \"Overfitting\" the csv data. Overfitting means the model is too closely tailored to the historical data, and might not perform as well on unseen or future data (e.g. today’s stock price). The SVR algorithm was closest because the TESLA stock had a large decline in late 2021 and early 2022, which is not included in the csv file. By the end of 2022 it had fallen about 70% from its peak in late 2021. "
   ]
  }
 ],
 "metadata": {
  "anaconda-cloud": {},
  "kernelspec": {
   "display_name": "base",
   "language": "python",
   "name": "python3"
  },
  "language_info": {
   "codemirror_mode": {
    "name": "ipython",
    "version": 3
   },
   "file_extension": ".py",
   "mimetype": "text/x-python",
   "name": "python",
   "nbconvert_exporter": "python",
   "pygments_lexer": "ipython3",
   "version": "3.12.3"
  }
 },
 "nbformat": 4,
 "nbformat_minor": 4
}
