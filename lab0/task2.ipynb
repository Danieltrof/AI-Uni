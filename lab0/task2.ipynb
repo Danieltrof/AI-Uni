{
 "cells": [
  {
   "cell_type": "code",
   "execution_count": 1,
   "metadata": {},
   "outputs": [
    {
     "name": "stdout",
     "output_type": "stream",
     "text": [
      "Addition of 10 and 5 is: 15\n",
      "Multiplication of 10 and 5 is: 50\n",
      "Division of 10 and 5 is: 2.0\n"
     ]
    }
   ],
   "source": [
    "a = 10\n",
    "b = 5\n",
    "\n",
    "addition = a + b\n",
    "print(f\"Addition of {a} and {b} is: {addition}\")\n",
    "\n",
    "multiplication = a * b\n",
    "print(f\"Multiplication of {a} and {b} is: {multiplication}\")\n",
    "\n",
    "division = a / b\n",
    "print(f\"Division of {a} and {b} is: {division}\")"
   ]
  }
 ],
 "metadata": {
  "kernelspec": {
   "display_name": "dave3625",
   "language": "python",
   "name": "python3"
  },
  "language_info": {
   "codemirror_mode": {
    "name": "ipython",
    "version": 3
   },
   "file_extension": ".py",
   "mimetype": "text/x-python",
   "name": "python",
   "nbconvert_exporter": "python",
   "pygments_lexer": "ipython3",
   "version": "3.8.19"
  }
 },
 "nbformat": 4,
 "nbformat_minor": 2
}
