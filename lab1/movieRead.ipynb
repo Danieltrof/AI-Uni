{
 "cells": [
  {
   "cell_type": "code",
   "execution_count": 3,
   "metadata": {},
   "outputs": [
    {
     "data": {
      "text/html": [
       "<div>\n",
       "<style scoped>\n",
       "    .dataframe tbody tr th:only-of-type {\n",
       "        vertical-align: middle;\n",
       "    }\n",
       "\n",
       "    .dataframe tbody tr th {\n",
       "        vertical-align: top;\n",
       "    }\n",
       "\n",
       "    .dataframe thead th {\n",
       "        text-align: right;\n",
       "    }\n",
       "</style>\n",
       "<table border=\"1\" class=\"dataframe\">\n",
       "  <thead>\n",
       "    <tr style=\"text-align: right;\">\n",
       "      <th></th>\n",
       "      <th>Title</th>\n",
       "      <th>Genre</th>\n",
       "      <th>Description</th>\n",
       "      <th>Director</th>\n",
       "      <th>Actors</th>\n",
       "      <th>Year</th>\n",
       "      <th>Runtime (Minutes)</th>\n",
       "      <th>Rating</th>\n",
       "      <th>Votes</th>\n",
       "      <th>Revenue (Millions)</th>\n",
       "      <th>Metascore</th>\n",
       "    </tr>\n",
       "    <tr>\n",
       "      <th>Rank</th>\n",
       "      <th></th>\n",
       "      <th></th>\n",
       "      <th></th>\n",
       "      <th></th>\n",
       "      <th></th>\n",
       "      <th></th>\n",
       "      <th></th>\n",
       "      <th></th>\n",
       "      <th></th>\n",
       "      <th></th>\n",
       "      <th></th>\n",
       "    </tr>\n",
       "  </thead>\n",
       "  <tbody>\n",
       "    <tr>\n",
       "      <th>1</th>\n",
       "      <td>Guardians of the Galaxy</td>\n",
       "      <td>Action,Adventure,Sci-Fi</td>\n",
       "      <td>A group of intergalactic criminals are forced ...</td>\n",
       "      <td>James Gunn</td>\n",
       "      <td>Chris Pratt, Vin Diesel, Bradley Cooper, Zoe S...</td>\n",
       "      <td>2014</td>\n",
       "      <td>121</td>\n",
       "      <td>8.1</td>\n",
       "      <td>757074</td>\n",
       "      <td>333.13</td>\n",
       "      <td>76.0</td>\n",
       "    </tr>\n",
       "    <tr>\n",
       "      <th>2</th>\n",
       "      <td>Prometheus</td>\n",
       "      <td>Adventure,Mystery,Sci-Fi</td>\n",
       "      <td>Following clues to the origin of mankind, a te...</td>\n",
       "      <td>Ridley Scott</td>\n",
       "      <td>Noomi Rapace, Logan Marshall-Green, Michael Fa...</td>\n",
       "      <td>2012</td>\n",
       "      <td>124</td>\n",
       "      <td>7.0</td>\n",
       "      <td>485820</td>\n",
       "      <td>126.46</td>\n",
       "      <td>65.0</td>\n",
       "    </tr>\n",
       "    <tr>\n",
       "      <th>3</th>\n",
       "      <td>Split</td>\n",
       "      <td>Horror,Thriller</td>\n",
       "      <td>Three girls are kidnapped by a man with a diag...</td>\n",
       "      <td>M. Night Shyamalan</td>\n",
       "      <td>James McAvoy, Anya Taylor-Joy, Haley Lu Richar...</td>\n",
       "      <td>2016</td>\n",
       "      <td>117</td>\n",
       "      <td>7.3</td>\n",
       "      <td>157606</td>\n",
       "      <td>138.12</td>\n",
       "      <td>62.0</td>\n",
       "    </tr>\n",
       "  </tbody>\n",
       "</table>\n",
       "</div>"
      ],
      "text/plain": [
       "                        Title                     Genre  \\\n",
       "Rank                                                      \n",
       "1     Guardians of the Galaxy   Action,Adventure,Sci-Fi   \n",
       "2                  Prometheus  Adventure,Mystery,Sci-Fi   \n",
       "3                       Split           Horror,Thriller   \n",
       "\n",
       "                                            Description            Director  \\\n",
       "Rank                                                                          \n",
       "1     A group of intergalactic criminals are forced ...          James Gunn   \n",
       "2     Following clues to the origin of mankind, a te...        Ridley Scott   \n",
       "3     Three girls are kidnapped by a man with a diag...  M. Night Shyamalan   \n",
       "\n",
       "                                                 Actors  Year  \\\n",
       "Rank                                                            \n",
       "1     Chris Pratt, Vin Diesel, Bradley Cooper, Zoe S...  2014   \n",
       "2     Noomi Rapace, Logan Marshall-Green, Michael Fa...  2012   \n",
       "3     James McAvoy, Anya Taylor-Joy, Haley Lu Richar...  2016   \n",
       "\n",
       "      Runtime (Minutes)  Rating   Votes  Revenue (Millions)  Metascore  \n",
       "Rank                                                                    \n",
       "1                   121     8.1  757074              333.13       76.0  \n",
       "2                   124     7.0  485820              126.46       65.0  \n",
       "3                   117     7.3  157606              138.12       62.0  "
      ]
     },
     "execution_count": 3,
     "metadata": {},
     "output_type": "execute_result"
    }
   ],
   "source": [
    "import numpy as np\n",
    "import pandas as pd\n",
    "import matplotlib.pyplot as plt\n",
    "from scipy import stats\n",
    "import seaborn as sns\n",
    "\n",
    "movie_df = pd.read_csv('./data/IMDB-Movie.csv', index_col='Rank',sep=',')\n",
    "\n",
    "movie_df.head(3)"
   ]
  },
  {
   "cell_type": "code",
   "execution_count": 4,
   "metadata": {},
   "outputs": [
    {
     "data": {
      "text/plain": [
       "644"
      ]
     },
     "execution_count": 4,
     "metadata": {},
     "output_type": "execute_result"
    }
   ],
   "source": [
    "#1. How many different Directors of movies are available?\n",
    "movie_df['Director'].nunique()"
   ]
  },
  {
   "cell_type": "code",
   "execution_count": null,
   "metadata": {},
   "outputs": [],
   "source": [
    "#2. What is the title of the shortest movie?\n",
    "movie_df.groupby('Title')['Runtime (Minutes)'].min().idxmin()"
   ]
  },
  {
   "cell_type": "code",
   "execution_count": 5,
   "metadata": {},
   "outputs": [
    {
     "data": {
      "text/plain": [
       "'Robert Rodriguez'"
      ]
     },
     "execution_count": 5,
     "metadata": {},
     "output_type": "execute_result"
    }
   ],
   "source": [
    "#3. Who is the director of the longest movie?\n",
    "movie_df.groupby('Director')['Runtime (Minutes)'].max().idxmax()"
   ]
  },
  {
   "cell_type": "code",
   "execution_count": null,
   "metadata": {},
   "outputs": [],
   "source": [
    "#4. How many Movies have been directed by Ridley Scott?\n",
    "len(movie_df[movie_df['Director'] == 'Ridley Scott'])"
   ]
  },
  {
   "cell_type": "code",
   "execution_count": 9,
   "metadata": {},
   "outputs": [
    {
     "data": {
      "text/plain": [
       "Rank\n",
       "55    The Dark Knight\n",
       "Name: Title, dtype: object"
      ]
     },
     "execution_count": 9,
     "metadata": {},
     "output_type": "execute_result"
    }
   ],
   "source": [
    "#5. Which is the highest and lowest rated movies?\n",
    "movie_df[movie_df['Rating'] == movie_df['Rating'].max()]['Title']#highest rated movie"
   ]
  },
  {
   "cell_type": "code",
   "execution_count": 7,
   "metadata": {},
   "outputs": [
    {
     "name": "stdout",
     "output_type": "stream",
     "text": [
      "Rank\n",
      "830    Disaster Movie\n",
      "Name: Title, dtype: object\n"
     ]
    }
   ],
   "source": [
    "print(movie_df[movie_df['Rating'] == movie_df['Rating'].min()]['Title'])"
   ]
  },
  {
   "cell_type": "code",
   "execution_count": 11,
   "metadata": {},
   "outputs": [
    {
     "data": {
      "text/plain": [
       "(1000, 11)"
      ]
     },
     "execution_count": 11,
     "metadata": {},
     "output_type": "execute_result"
    }
   ],
   "source": [
    "#We can drop the duplicates with drop_duplicates() temp_df.shape confirms this worked\n",
    "\n",
    "#Making a duplicate for this data set\n",
    "temp_df = pd.concat([movie_df, movie_df], ignore_index=True)\n",
    "temp_df.shape\n",
    "\n",
    "temp_df.head()\n",
    "\n",
    "temp_df.iloc[1000:1005]\n",
    "\n",
    "#Removing duplicate\n",
    "temp_df = temp_df.drop_duplicates()\n",
    "temp_df.shape"
   ]
  },
  {
   "cell_type": "code",
   "execution_count": null,
   "metadata": {},
   "outputs": [],
   "source": [
    "#Dataset cleanup\n",
    "#Many times datasets will have verbose column names with symbols, upper and lowercase words, spaces, and typos. \n",
    "#To make selecting data by column name easier we can spend a little time cleaning up their names.\n",
    "movie_df.columns\n",
    "movie_df[['Title', 'Rating']]\n",
    "\n",
    "#Let's simplify some of the names in the dataframe using the rename() method.\n",
    "movie_df.rename(columns={\n",
    "        'Runtime (Minutes)': 'Runtime_minutes', \n",
    "        'Revenue (Millions)': 'Revenue_millions'\n",
    "    }, inplace=True)\n",
    "\n",
    "\n",
    "movie_df.columns\n",
    "\n",
    "#Let's simplify it even further and set all column names to lowercase\n",
    "movie_df.columns = [col.lower() for col in movie_df]\n",
    "movie_df.columns\n"
   ]
  },
  {
   "cell_type": "code",
   "execution_count": 13,
   "metadata": {},
   "outputs": [
    {
     "data": {
      "text/plain": [
       "Title                   0\n",
       "Genre                   0\n",
       "Description             0\n",
       "Director                0\n",
       "Actors                  0\n",
       "Year                    0\n",
       "Runtime (Minutes)       0\n",
       "Rating                  0\n",
       "Votes                   0\n",
       "Revenue (Millions)    128\n",
       "Metascore              64\n",
       "dtype: int64"
      ]
     },
     "execution_count": 13,
     "metadata": {},
     "output_type": "execute_result"
    }
   ],
   "source": [
    "#Handling missing values\n",
    "#Let's calculate the total number of nulls in the dataset.\n",
    "new_df = movie_df.copy()\n",
    "new_df.isnull().sum()\n",
    "\n",
    "#Let's remove these with the dropna() method.\n",
    "drop_df = movie_df.copy()\n",
    "drop_df.dropna(inplace=True) # Remember to use inplace=True to make the changes permanent!\n",
    "\n",
    "drop_df.shape\n",
    "\n",
    "#Oh no! The index which was the Rank is now not suitable to be the index anymore. Let's make put back the normal index.\n",
    "new_df.reset_index(inplace=True) # Reset the index to the default integer index\n",
    "\n",
    "# Let's set the title as the index\n",
    "new_df.set_index('title', inplace=True)\n",
    "\n",
    "new_df.head()"
   ]
  }
 ],
 "metadata": {
  "kernelspec": {
   "display_name": "base",
   "language": "python",
   "name": "python3"
  },
  "language_info": {
   "codemirror_mode": {
    "name": "ipython",
    "version": 3
   },
   "file_extension": ".py",
   "mimetype": "text/x-python",
   "name": "python",
   "nbconvert_exporter": "python",
   "pygments_lexer": "ipython3",
   "version": "3.12.3"
  }
 },
 "nbformat": 4,
 "nbformat_minor": 2
}
